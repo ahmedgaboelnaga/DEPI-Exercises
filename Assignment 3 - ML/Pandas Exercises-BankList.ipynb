{
 "cells": [
  {
   "cell_type": "markdown",
   "metadata": {},
   "source": [
    "# Pandas Exercises"
   ]
  },
  {
   "cell_type": "markdown",
   "metadata": {},
   "source": [
    "Time to test your pandas skills! Use the csv file to complete the tasks in bold below!\n",
    "\n"
   ]
  },
  {
   "cell_type": "markdown",
   "metadata": {},
   "source": [
    "** Import pandas and read in the banklist.csv file into a dataframe called banks. **"
   ]
  },
  {
   "cell_type": "code",
   "execution_count": 304,
   "metadata": {},
   "outputs": [],
   "source": [
    "import numpy as np\n",
    "import pandas as pd"
   ]
  },
  {
   "cell_type": "code",
   "execution_count": 305,
   "metadata": {},
   "outputs": [],
   "source": [
    "banks = pd.read_csv('banklist.csv')"
   ]
  },
  {
   "cell_type": "code",
   "execution_count": 306,
   "metadata": {},
   "outputs": [
    {
     "name": "stdout",
     "output_type": "stream",
     "text": [
      "<class 'pandas.core.frame.DataFrame'>\n",
      "RangeIndex: 551 entries, 0 to 550\n",
      "Data columns (total 7 columns):\n",
      " #   Column                 Non-Null Count  Dtype \n",
      "---  ------                 --------------  ----- \n",
      " 0   Bank Name              551 non-null    object\n",
      " 1   City                   551 non-null    object\n",
      " 2   ST                     551 non-null    object\n",
      " 3   CERT                   551 non-null    int64 \n",
      " 4   Acquiring Institution  551 non-null    object\n",
      " 5   Closing Date           551 non-null    object\n",
      " 6   Updated Date           551 non-null    object\n",
      "dtypes: int64(1), object(6)\n",
      "memory usage: 30.3+ KB\n"
     ]
    }
   ],
   "source": [
    "banks.info()"
   ]
  },
  {
   "cell_type": "markdown",
   "metadata": {},
   "source": [
    "** Show the head of the dataframe **"
   ]
  },
  {
   "cell_type": "code",
   "execution_count": 307,
   "metadata": {},
   "outputs": [],
   "source": [
    "# CODE HERE"
   ]
  },
  {
   "cell_type": "code",
   "execution_count": 308,
   "metadata": {},
   "outputs": [
    {
     "data": {
      "text/html": [
       "<div>\n",
       "<style scoped>\n",
       "    .dataframe tbody tr th:only-of-type {\n",
       "        vertical-align: middle;\n",
       "    }\n",
       "\n",
       "    .dataframe tbody tr th {\n",
       "        vertical-align: top;\n",
       "    }\n",
       "\n",
       "    .dataframe thead th {\n",
       "        text-align: right;\n",
       "    }\n",
       "</style>\n",
       "<table border=\"1\" class=\"dataframe\">\n",
       "  <thead>\n",
       "    <tr style=\"text-align: right;\">\n",
       "      <th></th>\n",
       "      <th>Bank Name</th>\n",
       "      <th>City</th>\n",
       "      <th>ST</th>\n",
       "      <th>CERT</th>\n",
       "      <th>Acquiring Institution</th>\n",
       "      <th>Closing Date</th>\n",
       "      <th>Updated Date</th>\n",
       "    </tr>\n",
       "  </thead>\n",
       "  <tbody>\n",
       "    <tr>\n",
       "      <th>0</th>\n",
       "      <td>Fayette County Bank</td>\n",
       "      <td>Saint Elmo</td>\n",
       "      <td>IL</td>\n",
       "      <td>1802</td>\n",
       "      <td>United Fidelity Bank, fsb</td>\n",
       "      <td>26-May-17</td>\n",
       "      <td>1-Jun-17</td>\n",
       "    </tr>\n",
       "    <tr>\n",
       "      <th>1</th>\n",
       "      <td>Guaranty Bank, (d/b/a BestBank in Georgia &amp; Mi...</td>\n",
       "      <td>Milwaukee</td>\n",
       "      <td>WI</td>\n",
       "      <td>30003</td>\n",
       "      <td>First-Citizens Bank &amp; Trust Company</td>\n",
       "      <td>5-May-17</td>\n",
       "      <td>1-Jun-17</td>\n",
       "    </tr>\n",
       "    <tr>\n",
       "      <th>2</th>\n",
       "      <td>First NBC Bank</td>\n",
       "      <td>New Orleans</td>\n",
       "      <td>LA</td>\n",
       "      <td>58302</td>\n",
       "      <td>Whitney Bank</td>\n",
       "      <td>28-Apr-17</td>\n",
       "      <td>23-May-17</td>\n",
       "    </tr>\n",
       "    <tr>\n",
       "      <th>3</th>\n",
       "      <td>Proficio Bank</td>\n",
       "      <td>Cottonwood Heights</td>\n",
       "      <td>UT</td>\n",
       "      <td>35495</td>\n",
       "      <td>Cache Valley Bank</td>\n",
       "      <td>3-Mar-17</td>\n",
       "      <td>18-May-17</td>\n",
       "    </tr>\n",
       "    <tr>\n",
       "      <th>4</th>\n",
       "      <td>Seaway Bank and Trust Company</td>\n",
       "      <td>Chicago</td>\n",
       "      <td>IL</td>\n",
       "      <td>19328</td>\n",
       "      <td>State Bank of Texas</td>\n",
       "      <td>27-Jan-17</td>\n",
       "      <td>18-May-17</td>\n",
       "    </tr>\n",
       "  </tbody>\n",
       "</table>\n",
       "</div>"
      ],
      "text/plain": [
       "                                           Bank Name                City  ST  \\\n",
       "0                                Fayette County Bank          Saint Elmo  IL   \n",
       "1  Guaranty Bank, (d/b/a BestBank in Georgia & Mi...           Milwaukee  WI   \n",
       "2                                     First NBC Bank         New Orleans  LA   \n",
       "3                                      Proficio Bank  Cottonwood Heights  UT   \n",
       "4                      Seaway Bank and Trust Company             Chicago  IL   \n",
       "\n",
       "    CERT                Acquiring Institution Closing Date Updated Date  \n",
       "0   1802            United Fidelity Bank, fsb    26-May-17     1-Jun-17  \n",
       "1  30003  First-Citizens Bank & Trust Company     5-May-17     1-Jun-17  \n",
       "2  58302                         Whitney Bank    28-Apr-17    23-May-17  \n",
       "3  35495                    Cache Valley Bank     3-Mar-17    18-May-17  \n",
       "4  19328                  State Bank of Texas    27-Jan-17    18-May-17  "
      ]
     },
     "execution_count": 308,
     "metadata": {},
     "output_type": "execute_result"
    }
   ],
   "source": [
    "banks.head()\n"
   ]
  },
  {
   "cell_type": "markdown",
   "metadata": {},
   "source": [
    "** What are the column names? **"
   ]
  },
  {
   "cell_type": "code",
   "execution_count": 309,
   "metadata": {},
   "outputs": [],
   "source": [
    "# CODE HERE"
   ]
  },
  {
   "cell_type": "code",
   "execution_count": 310,
   "metadata": {},
   "outputs": [
    {
     "data": {
      "text/plain": [
       "Index(['Bank Name', 'City', 'ST', 'CERT', 'Acquiring Institution',\n",
       "       'Closing Date', 'Updated Date'],\n",
       "      dtype='object')"
      ]
     },
     "execution_count": 310,
     "metadata": {},
     "output_type": "execute_result"
    }
   ],
   "source": [
    "banks.columns"
   ]
  },
  {
   "cell_type": "markdown",
   "metadata": {},
   "source": [
    "** How many States (ST) are represented in this data set? **"
   ]
  },
  {
   "cell_type": "code",
   "execution_count": 311,
   "metadata": {},
   "outputs": [],
   "source": [
    "# CODE HERE"
   ]
  },
  {
   "cell_type": "code",
   "execution_count": 312,
   "metadata": {},
   "outputs": [
    {
     "data": {
      "text/plain": [
       "44"
      ]
     },
     "execution_count": 312,
     "metadata": {},
     "output_type": "execute_result"
    }
   ],
   "source": [
    "banks['ST'].nunique()"
   ]
  },
  {
   "cell_type": "markdown",
   "metadata": {},
   "source": [
    "** Get a list or array of all the states in the data set. **"
   ]
  },
  {
   "cell_type": "code",
   "execution_count": 313,
   "metadata": {},
   "outputs": [],
   "source": [
    "# CODE HERE"
   ]
  },
  {
   "cell_type": "code",
   "execution_count": 314,
   "metadata": {},
   "outputs": [
    {
     "data": {
      "text/plain": [
       "array(['IL', 'WI', 'LA', 'UT', 'NJ', 'AR', 'GA', 'PA', 'TN', 'WA', 'CO',\n",
       "       'PR', 'FL', 'MN', 'CA', 'MD', 'OK', 'OH', 'SC', 'VA', 'ID', 'TX',\n",
       "       'CT', 'AZ', 'NV', 'NC', 'KY', 'MO', 'KS', 'AL', 'MI', 'IN', 'IA',\n",
       "       'NE', 'MS', 'NM', 'OR', 'NY', 'MA', 'SD', 'WY', 'WV', 'NH', 'HI'],\n",
       "      dtype=object)"
      ]
     },
     "execution_count": 314,
     "metadata": {},
     "output_type": "execute_result"
    }
   ],
   "source": [
    "banks['ST'].unique()"
   ]
  },
  {
   "cell_type": "markdown",
   "metadata": {},
   "source": [
    "** What are the top 5 states with the most failed banks? **"
   ]
  },
  {
   "cell_type": "code",
   "execution_count": 315,
   "metadata": {
    "scrolled": true
   },
   "outputs": [],
   "source": [
    "# CODE HERE"
   ]
  },
  {
   "cell_type": "code",
   "execution_count": 316,
   "metadata": {},
   "outputs": [
    {
     "data": {
      "text/plain": [
       "ST\n",
       "GA    93\n",
       "FL    75\n",
       "IL    67\n",
       "CA    41\n",
       "MN    23\n",
       "Name: count, dtype: int64"
      ]
     },
     "execution_count": 316,
     "metadata": {},
     "output_type": "execute_result"
    }
   ],
   "source": [
    "banks['ST'].value_counts().head(5)"
   ]
  },
  {
   "cell_type": "markdown",
   "metadata": {},
   "source": [
    "** What are the top 5 acquiring institutions? **"
   ]
  },
  {
   "cell_type": "code",
   "execution_count": 317,
   "metadata": {},
   "outputs": [],
   "source": [
    "# CODE HERE"
   ]
  },
  {
   "cell_type": "code",
   "execution_count": 318,
   "metadata": {},
   "outputs": [
    {
     "data": {
      "text/plain": [
       "Acquiring Institution\n",
       "No Acquirer                            31\n",
       "State Bank and Trust Company           12\n",
       "First-Citizens Bank & Trust Company    11\n",
       "Ameris Bank                            10\n",
       "U.S. Bank N.A.                          9\n",
       "Name: count, dtype: int64"
      ]
     },
     "execution_count": 318,
     "metadata": {},
     "output_type": "execute_result"
    }
   ],
   "source": [
    "banks['Acquiring Institution'].value_counts().head(5)"
   ]
  },
  {
   "cell_type": "markdown",
   "metadata": {},
   "source": [
    "** How many banks has the State Bank of Texas acquired? How many of them were actually in Texas?**"
   ]
  },
  {
   "cell_type": "code",
   "execution_count": 319,
   "metadata": {},
   "outputs": [],
   "source": [
    "# CODE HERE"
   ]
  },
  {
   "cell_type": "code",
   "execution_count": 320,
   "metadata": {},
   "outputs": [
    {
     "data": {
      "text/plain": [
       "3"
      ]
     },
     "execution_count": 320,
     "metadata": {},
     "output_type": "execute_result"
    }
   ],
   "source": [
    "len(banks[banks['Acquiring Institution'] == 'State Bank of Texas'])"
   ]
  },
  {
   "cell_type": "markdown",
   "metadata": {},
   "source": [
    "** What is the most common city in California for a bank to fail in?**"
   ]
  },
  {
   "cell_type": "code",
   "execution_count": 321,
   "metadata": {},
   "outputs": [],
   "source": [
    "# CODE HERE"
   ]
  },
  {
   "cell_type": "code",
   "execution_count": 322,
   "metadata": {},
   "outputs": [
    {
     "data": {
      "text/html": [
       "<div>\n",
       "<style scoped>\n",
       "    .dataframe tbody tr th:only-of-type {\n",
       "        vertical-align: middle;\n",
       "    }\n",
       "\n",
       "    .dataframe tbody tr th {\n",
       "        vertical-align: top;\n",
       "    }\n",
       "\n",
       "    .dataframe thead th {\n",
       "        text-align: right;\n",
       "    }\n",
       "</style>\n",
       "<table border=\"1\" class=\"dataframe\">\n",
       "  <thead>\n",
       "    <tr style=\"text-align: right;\">\n",
       "      <th></th>\n",
       "      <th>Bank Name</th>\n",
       "      <th>City</th>\n",
       "      <th>ST</th>\n",
       "      <th>CERT</th>\n",
       "      <th>Acquiring Institution</th>\n",
       "      <th>Closing Date</th>\n",
       "      <th>Updated Date</th>\n",
       "    </tr>\n",
       "  </thead>\n",
       "  <tbody>\n",
       "    <tr>\n",
       "      <th>20</th>\n",
       "      <td>Frontier Bank, FSB D/B/A El Paseo Bank</td>\n",
       "      <td>Palm Desert</td>\n",
       "      <td>CA</td>\n",
       "      <td>34738</td>\n",
       "      <td>Bank of Southern California, N.A.</td>\n",
       "      <td>7-Nov-14</td>\n",
       "      <td>10-Nov-16</td>\n",
       "    </tr>\n",
       "    <tr>\n",
       "      <th>90</th>\n",
       "      <td>Palm Desert National Bank</td>\n",
       "      <td>Palm Desert</td>\n",
       "      <td>CA</td>\n",
       "      <td>23632</td>\n",
       "      <td>Pacific Premier Bank</td>\n",
       "      <td>27-Apr-12</td>\n",
       "      <td>7-Dec-15</td>\n",
       "    </tr>\n",
       "    <tr>\n",
       "      <th>131</th>\n",
       "      <td>Citizens Bank of Northern California</td>\n",
       "      <td>Nevada City</td>\n",
       "      <td>CA</td>\n",
       "      <td>33983</td>\n",
       "      <td>Tri Counties Bank</td>\n",
       "      <td>23-Sep-11</td>\n",
       "      <td>9-Oct-12</td>\n",
       "    </tr>\n",
       "    <tr>\n",
       "      <th>182</th>\n",
       "      <td>San Luis Trust Bank, FSB</td>\n",
       "      <td>San Luis Obispo</td>\n",
       "      <td>CA</td>\n",
       "      <td>34783</td>\n",
       "      <td>First California Bank</td>\n",
       "      <td>18-Feb-11</td>\n",
       "      <td>12-Sep-16</td>\n",
       "    </tr>\n",
       "    <tr>\n",
       "      <th>183</th>\n",
       "      <td>Charter Oak Bank</td>\n",
       "      <td>Napa</td>\n",
       "      <td>CA</td>\n",
       "      <td>57855</td>\n",
       "      <td>Bank of Marin</td>\n",
       "      <td>18-Feb-11</td>\n",
       "      <td>12-Sep-12</td>\n",
       "    </tr>\n",
       "    <tr>\n",
       "      <th>186</th>\n",
       "      <td>Canyon National Bank</td>\n",
       "      <td>Palm Springs</td>\n",
       "      <td>CA</td>\n",
       "      <td>34692</td>\n",
       "      <td>Pacific Premier Bank</td>\n",
       "      <td>11-Feb-11</td>\n",
       "      <td>19-Aug-14</td>\n",
       "    </tr>\n",
       "    <tr>\n",
       "      <th>218</th>\n",
       "      <td>First Vietnamese American Bank</td>\n",
       "      <td>Westminster</td>\n",
       "      <td>CA</td>\n",
       "      <td>57885</td>\n",
       "      <td>Grandpoint Bank</td>\n",
       "      <td>5-Nov-10</td>\n",
       "      <td>12-Sep-12</td>\n",
       "    </tr>\n",
       "    <tr>\n",
       "      <th>220</th>\n",
       "      <td>Western Commercial Bank</td>\n",
       "      <td>Woodland Hills</td>\n",
       "      <td>CA</td>\n",
       "      <td>58087</td>\n",
       "      <td>First California Bank</td>\n",
       "      <td>5-Nov-10</td>\n",
       "      <td>12-Sep-16</td>\n",
       "    </tr>\n",
       "    <tr>\n",
       "      <th>243</th>\n",
       "      <td>Sonoma Valley Bank</td>\n",
       "      <td>Sonoma</td>\n",
       "      <td>CA</td>\n",
       "      <td>27259</td>\n",
       "      <td>Westamerica Bank</td>\n",
       "      <td>20-Aug-10</td>\n",
       "      <td>12-Sep-12</td>\n",
       "    </tr>\n",
       "    <tr>\n",
       "      <th>244</th>\n",
       "      <td>Los Padres Bank</td>\n",
       "      <td>Solvang</td>\n",
       "      <td>CA</td>\n",
       "      <td>32165</td>\n",
       "      <td>Pacific Western Bank</td>\n",
       "      <td>20-Aug-10</td>\n",
       "      <td>12-Sep-12</td>\n",
       "    </tr>\n",
       "    <tr>\n",
       "      <th>245</th>\n",
       "      <td>Butte Community Bank</td>\n",
       "      <td>Chico</td>\n",
       "      <td>CA</td>\n",
       "      <td>33219</td>\n",
       "      <td>Rabobank, N.A.</td>\n",
       "      <td>20-Aug-10</td>\n",
       "      <td>12-Sep-12</td>\n",
       "    </tr>\n",
       "    <tr>\n",
       "      <th>246</th>\n",
       "      <td>Pacific State Bank</td>\n",
       "      <td>Stockton</td>\n",
       "      <td>CA</td>\n",
       "      <td>27090</td>\n",
       "      <td>Rabobank, N.A.</td>\n",
       "      <td>20-Aug-10</td>\n",
       "      <td>12-Sep-12</td>\n",
       "    </tr>\n",
       "    <tr>\n",
       "      <th>284</th>\n",
       "      <td>Granite Community Bank, NA</td>\n",
       "      <td>Granite Bay</td>\n",
       "      <td>CA</td>\n",
       "      <td>57315</td>\n",
       "      <td>Tri Counties Bank</td>\n",
       "      <td>28-May-10</td>\n",
       "      <td>14-Sep-12</td>\n",
       "    </tr>\n",
       "    <tr>\n",
       "      <th>293</th>\n",
       "      <td>1st Pacific Bank of California</td>\n",
       "      <td>San Diego</td>\n",
       "      <td>CA</td>\n",
       "      <td>35517</td>\n",
       "      <td>City National Bank</td>\n",
       "      <td>7-May-10</td>\n",
       "      <td>13-Dec-12</td>\n",
       "    </tr>\n",
       "    <tr>\n",
       "      <th>312</th>\n",
       "      <td>Tamalpais Bank</td>\n",
       "      <td>San Rafael</td>\n",
       "      <td>CA</td>\n",
       "      <td>33493</td>\n",
       "      <td>Union Bank, N.A.</td>\n",
       "      <td>16-Apr-10</td>\n",
       "      <td>23-Aug-12</td>\n",
       "    </tr>\n",
       "    <tr>\n",
       "      <th>313</th>\n",
       "      <td>Innovative Bank</td>\n",
       "      <td>Oakland</td>\n",
       "      <td>CA</td>\n",
       "      <td>23876</td>\n",
       "      <td>Center Bank</td>\n",
       "      <td>16-Apr-10</td>\n",
       "      <td>23-Aug-12</td>\n",
       "    </tr>\n",
       "    <tr>\n",
       "      <th>341</th>\n",
       "      <td>La Jolla Bank, FSB</td>\n",
       "      <td>La Jolla</td>\n",
       "      <td>CA</td>\n",
       "      <td>32423</td>\n",
       "      <td>OneWest Bank, FSB</td>\n",
       "      <td>19-Feb-10</td>\n",
       "      <td>24-Aug-12</td>\n",
       "    </tr>\n",
       "    <tr>\n",
       "      <th>347</th>\n",
       "      <td>First Regional Bank</td>\n",
       "      <td>Los Angeles</td>\n",
       "      <td>CA</td>\n",
       "      <td>23011</td>\n",
       "      <td>First-Citizens Bank &amp; Trust Company</td>\n",
       "      <td>29-Jan-10</td>\n",
       "      <td>4-Mar-16</td>\n",
       "    </tr>\n",
       "    <tr>\n",
       "      <th>361</th>\n",
       "      <td>First Federal Bank of California, F.S.B.</td>\n",
       "      <td>Santa Monica</td>\n",
       "      <td>CA</td>\n",
       "      <td>28536</td>\n",
       "      <td>OneWest Bank, FSB</td>\n",
       "      <td>18-Dec-09</td>\n",
       "      <td>23-Aug-12</td>\n",
       "    </tr>\n",
       "    <tr>\n",
       "      <th>362</th>\n",
       "      <td>Imperial Capital Bank</td>\n",
       "      <td>La Jolla</td>\n",
       "      <td>CA</td>\n",
       "      <td>26348</td>\n",
       "      <td>City National Bank</td>\n",
       "      <td>18-Dec-09</td>\n",
       "      <td>5-Sep-12</td>\n",
       "    </tr>\n",
       "    <tr>\n",
       "      <th>378</th>\n",
       "      <td>Pacific Coast National Bank</td>\n",
       "      <td>San Clemente</td>\n",
       "      <td>CA</td>\n",
       "      <td>57914</td>\n",
       "      <td>Sunwest Bank</td>\n",
       "      <td>13-Nov-09</td>\n",
       "      <td>10-Apr-17</td>\n",
       "    </tr>\n",
       "    <tr>\n",
       "      <th>381</th>\n",
       "      <td>United Commercial Bank</td>\n",
       "      <td>San Francisco</td>\n",
       "      <td>CA</td>\n",
       "      <td>32469</td>\n",
       "      <td>East West Bank</td>\n",
       "      <td>6-Nov-09</td>\n",
       "      <td>5-Nov-12</td>\n",
       "    </tr>\n",
       "    <tr>\n",
       "      <th>390</th>\n",
       "      <td>Pacific National Bank</td>\n",
       "      <td>San Francisco</td>\n",
       "      <td>CA</td>\n",
       "      <td>30006</td>\n",
       "      <td>U.S. Bank N.A.</td>\n",
       "      <td>30-Oct-09</td>\n",
       "      <td>22-Aug-12</td>\n",
       "    </tr>\n",
       "    <tr>\n",
       "      <th>391</th>\n",
       "      <td>California National Bank</td>\n",
       "      <td>Los Angeles</td>\n",
       "      <td>CA</td>\n",
       "      <td>34659</td>\n",
       "      <td>U.S. Bank N.A.</td>\n",
       "      <td>30-Oct-09</td>\n",
       "      <td>5-Sep-12</td>\n",
       "    </tr>\n",
       "    <tr>\n",
       "      <th>392</th>\n",
       "      <td>San Diego National Bank</td>\n",
       "      <td>San Diego</td>\n",
       "      <td>CA</td>\n",
       "      <td>23594</td>\n",
       "      <td>U.S. Bank N.A.</td>\n",
       "      <td>30-Oct-09</td>\n",
       "      <td>22-Aug-12</td>\n",
       "    </tr>\n",
       "    <tr>\n",
       "      <th>402</th>\n",
       "      <td>San Joaquin Bank</td>\n",
       "      <td>Bakersfield</td>\n",
       "      <td>CA</td>\n",
       "      <td>23266</td>\n",
       "      <td>Citizens Business Bank</td>\n",
       "      <td>16-Oct-09</td>\n",
       "      <td>22-Aug-12</td>\n",
       "    </tr>\n",
       "    <tr>\n",
       "      <th>417</th>\n",
       "      <td>Affinity Bank</td>\n",
       "      <td>Ventura</td>\n",
       "      <td>CA</td>\n",
       "      <td>27197</td>\n",
       "      <td>Pacific Western Bank</td>\n",
       "      <td>28-Aug-09</td>\n",
       "      <td>21-Aug-12</td>\n",
       "    </tr>\n",
       "    <tr>\n",
       "      <th>444</th>\n",
       "      <td>Temecula Valley Bank</td>\n",
       "      <td>Temecula</td>\n",
       "      <td>CA</td>\n",
       "      <td>34341</td>\n",
       "      <td>First-Citizens Bank &amp; Trust Company</td>\n",
       "      <td>17-Jul-09</td>\n",
       "      <td>20-Oct-16</td>\n",
       "    </tr>\n",
       "    <tr>\n",
       "      <th>445</th>\n",
       "      <td>Vineyard Bank</td>\n",
       "      <td>Rancho Cucamonga</td>\n",
       "      <td>CA</td>\n",
       "      <td>23556</td>\n",
       "      <td>California Bank &amp; Trust</td>\n",
       "      <td>17-Jul-09</td>\n",
       "      <td>20-Aug-12</td>\n",
       "    </tr>\n",
       "    <tr>\n",
       "      <th>456</th>\n",
       "      <td>Mirae Bank</td>\n",
       "      <td>Los Angeles</td>\n",
       "      <td>CA</td>\n",
       "      <td>57332</td>\n",
       "      <td>Wilshire State Bank</td>\n",
       "      <td>26-Jun-09</td>\n",
       "      <td>20-Aug-12</td>\n",
       "    </tr>\n",
       "    <tr>\n",
       "      <th>457</th>\n",
       "      <td>MetroPacific Bank</td>\n",
       "      <td>Irvine</td>\n",
       "      <td>CA</td>\n",
       "      <td>57893</td>\n",
       "      <td>Sunwest Bank</td>\n",
       "      <td>26-Jun-09</td>\n",
       "      <td>5-Feb-15</td>\n",
       "    </tr>\n",
       "    <tr>\n",
       "      <th>473</th>\n",
       "      <td>First Bank of Beverly Hills</td>\n",
       "      <td>Calabasas</td>\n",
       "      <td>CA</td>\n",
       "      <td>32069</td>\n",
       "      <td>No Acquirer</td>\n",
       "      <td>24-Apr-09</td>\n",
       "      <td>4-Sep-12</td>\n",
       "    </tr>\n",
       "    <tr>\n",
       "      <th>492</th>\n",
       "      <td>County Bank</td>\n",
       "      <td>Merced</td>\n",
       "      <td>CA</td>\n",
       "      <td>22574</td>\n",
       "      <td>Westamerica Bank</td>\n",
       "      <td>6-Feb-09</td>\n",
       "      <td>4-Sep-12</td>\n",
       "    </tr>\n",
       "    <tr>\n",
       "      <th>493</th>\n",
       "      <td>Alliance Bank</td>\n",
       "      <td>Culver City</td>\n",
       "      <td>CA</td>\n",
       "      <td>23124</td>\n",
       "      <td>California Bank &amp; Trust</td>\n",
       "      <td>6-Feb-09</td>\n",
       "      <td>16-Aug-12</td>\n",
       "    </tr>\n",
       "    <tr>\n",
       "      <th>498</th>\n",
       "      <td>1st Centennial Bank</td>\n",
       "      <td>Redlands</td>\n",
       "      <td>CA</td>\n",
       "      <td>33025</td>\n",
       "      <td>First California Bank</td>\n",
       "      <td>23-Jan-09</td>\n",
       "      <td>13-Apr-16</td>\n",
       "    </tr>\n",
       "    <tr>\n",
       "      <th>504</th>\n",
       "      <td>PFF Bank &amp; Trust</td>\n",
       "      <td>Pomona</td>\n",
       "      <td>CA</td>\n",
       "      <td>28344</td>\n",
       "      <td>U.S. Bank, N.A.</td>\n",
       "      <td>21-Nov-08</td>\n",
       "      <td>4-Jan-13</td>\n",
       "    </tr>\n",
       "    <tr>\n",
       "      <th>505</th>\n",
       "      <td>Downey Savings &amp; Loan</td>\n",
       "      <td>Newport Beach</td>\n",
       "      <td>CA</td>\n",
       "      <td>30968</td>\n",
       "      <td>U.S. Bank, N.A.</td>\n",
       "      <td>21-Nov-08</td>\n",
       "      <td>4-Jan-13</td>\n",
       "    </tr>\n",
       "    <tr>\n",
       "      <th>507</th>\n",
       "      <td>Security Pacific Bank</td>\n",
       "      <td>Los Angeles</td>\n",
       "      <td>CA</td>\n",
       "      <td>23595</td>\n",
       "      <td>Pacific Western Bank</td>\n",
       "      <td>7-Nov-08</td>\n",
       "      <td>28-Aug-12</td>\n",
       "    </tr>\n",
       "    <tr>\n",
       "      <th>519</th>\n",
       "      <td>First Heritage Bank, NA</td>\n",
       "      <td>Newport Beach</td>\n",
       "      <td>CA</td>\n",
       "      <td>57961</td>\n",
       "      <td>Mutual of Omaha Bank</td>\n",
       "      <td>25-Jul-08</td>\n",
       "      <td>12-Sep-16</td>\n",
       "    </tr>\n",
       "    <tr>\n",
       "      <th>521</th>\n",
       "      <td>IndyMac Bank</td>\n",
       "      <td>Pasadena</td>\n",
       "      <td>CA</td>\n",
       "      <td>29730</td>\n",
       "      <td>OneWest Bank, FSB</td>\n",
       "      <td>11-Jul-08</td>\n",
       "      <td>22-Apr-15</td>\n",
       "    </tr>\n",
       "    <tr>\n",
       "      <th>535</th>\n",
       "      <td>Southern Pacific Bank</td>\n",
       "      <td>Torrance</td>\n",
       "      <td>CA</td>\n",
       "      <td>27094</td>\n",
       "      <td>Beal Bank</td>\n",
       "      <td>7-Feb-03</td>\n",
       "      <td>20-Oct-08</td>\n",
       "    </tr>\n",
       "  </tbody>\n",
       "</table>\n",
       "</div>"
      ],
      "text/plain": [
       "                                    Bank Name              City  ST   CERT  \\\n",
       "20     Frontier Bank, FSB D/B/A El Paseo Bank       Palm Desert  CA  34738   \n",
       "90                  Palm Desert National Bank       Palm Desert  CA  23632   \n",
       "131      Citizens Bank of Northern California       Nevada City  CA  33983   \n",
       "182                  San Luis Trust Bank, FSB   San Luis Obispo  CA  34783   \n",
       "183                          Charter Oak Bank              Napa  CA  57855   \n",
       "186                      Canyon National Bank      Palm Springs  CA  34692   \n",
       "218            First Vietnamese American Bank       Westminster  CA  57885   \n",
       "220                   Western Commercial Bank    Woodland Hills  CA  58087   \n",
       "243                        Sonoma Valley Bank            Sonoma  CA  27259   \n",
       "244                           Los Padres Bank           Solvang  CA  32165   \n",
       "245                      Butte Community Bank             Chico  CA  33219   \n",
       "246                        Pacific State Bank          Stockton  CA  27090   \n",
       "284                Granite Community Bank, NA       Granite Bay  CA  57315   \n",
       "293            1st Pacific Bank of California         San Diego  CA  35517   \n",
       "312                            Tamalpais Bank        San Rafael  CA  33493   \n",
       "313                           Innovative Bank           Oakland  CA  23876   \n",
       "341                        La Jolla Bank, FSB          La Jolla  CA  32423   \n",
       "347                       First Regional Bank       Los Angeles  CA  23011   \n",
       "361  First Federal Bank of California, F.S.B.      Santa Monica  CA  28536   \n",
       "362                     Imperial Capital Bank          La Jolla  CA  26348   \n",
       "378               Pacific Coast National Bank      San Clemente  CA  57914   \n",
       "381                    United Commercial Bank     San Francisco  CA  32469   \n",
       "390                     Pacific National Bank     San Francisco  CA  30006   \n",
       "391                  California National Bank       Los Angeles  CA  34659   \n",
       "392                   San Diego National Bank         San Diego  CA  23594   \n",
       "402                          San Joaquin Bank       Bakersfield  CA  23266   \n",
       "417                             Affinity Bank           Ventura  CA  27197   \n",
       "444                      Temecula Valley Bank          Temecula  CA  34341   \n",
       "445                             Vineyard Bank  Rancho Cucamonga  CA  23556   \n",
       "456                                Mirae Bank       Los Angeles  CA  57332   \n",
       "457                         MetroPacific Bank            Irvine  CA  57893   \n",
       "473               First Bank of Beverly Hills         Calabasas  CA  32069   \n",
       "492                               County Bank            Merced  CA  22574   \n",
       "493                             Alliance Bank       Culver City  CA  23124   \n",
       "498                       1st Centennial Bank          Redlands  CA  33025   \n",
       "504                          PFF Bank & Trust            Pomona  CA  28344   \n",
       "505                     Downey Savings & Loan     Newport Beach  CA  30968   \n",
       "507                     Security Pacific Bank       Los Angeles  CA  23595   \n",
       "519                   First Heritage Bank, NA     Newport Beach  CA  57961   \n",
       "521                              IndyMac Bank          Pasadena  CA  29730   \n",
       "535                     Southern Pacific Bank          Torrance  CA  27094   \n",
       "\n",
       "                   Acquiring Institution Closing Date Updated Date  \n",
       "20     Bank of Southern California, N.A.     7-Nov-14    10-Nov-16  \n",
       "90                  Pacific Premier Bank    27-Apr-12     7-Dec-15  \n",
       "131                    Tri Counties Bank    23-Sep-11     9-Oct-12  \n",
       "182                First California Bank    18-Feb-11    12-Sep-16  \n",
       "183                        Bank of Marin    18-Feb-11    12-Sep-12  \n",
       "186                 Pacific Premier Bank    11-Feb-11    19-Aug-14  \n",
       "218                      Grandpoint Bank     5-Nov-10    12-Sep-12  \n",
       "220                First California Bank     5-Nov-10    12-Sep-16  \n",
       "243                     Westamerica Bank    20-Aug-10    12-Sep-12  \n",
       "244                 Pacific Western Bank    20-Aug-10    12-Sep-12  \n",
       "245                       Rabobank, N.A.    20-Aug-10    12-Sep-12  \n",
       "246                       Rabobank, N.A.    20-Aug-10    12-Sep-12  \n",
       "284                    Tri Counties Bank    28-May-10    14-Sep-12  \n",
       "293                   City National Bank     7-May-10    13-Dec-12  \n",
       "312                     Union Bank, N.A.    16-Apr-10    23-Aug-12  \n",
       "313                          Center Bank    16-Apr-10    23-Aug-12  \n",
       "341                    OneWest Bank, FSB    19-Feb-10    24-Aug-12  \n",
       "347  First-Citizens Bank & Trust Company    29-Jan-10     4-Mar-16  \n",
       "361                    OneWest Bank, FSB    18-Dec-09    23-Aug-12  \n",
       "362                   City National Bank    18-Dec-09     5-Sep-12  \n",
       "378                         Sunwest Bank    13-Nov-09    10-Apr-17  \n",
       "381                       East West Bank     6-Nov-09     5-Nov-12  \n",
       "390                       U.S. Bank N.A.    30-Oct-09    22-Aug-12  \n",
       "391                       U.S. Bank N.A.    30-Oct-09     5-Sep-12  \n",
       "392                       U.S. Bank N.A.    30-Oct-09    22-Aug-12  \n",
       "402               Citizens Business Bank    16-Oct-09    22-Aug-12  \n",
       "417                 Pacific Western Bank    28-Aug-09    21-Aug-12  \n",
       "444  First-Citizens Bank & Trust Company    17-Jul-09    20-Oct-16  \n",
       "445              California Bank & Trust    17-Jul-09    20-Aug-12  \n",
       "456                  Wilshire State Bank    26-Jun-09    20-Aug-12  \n",
       "457                         Sunwest Bank    26-Jun-09     5-Feb-15  \n",
       "473                          No Acquirer    24-Apr-09     4-Sep-12  \n",
       "492                     Westamerica Bank     6-Feb-09     4-Sep-12  \n",
       "493              California Bank & Trust     6-Feb-09    16-Aug-12  \n",
       "498                First California Bank    23-Jan-09    13-Apr-16  \n",
       "504                      U.S. Bank, N.A.    21-Nov-08     4-Jan-13  \n",
       "505                      U.S. Bank, N.A.    21-Nov-08     4-Jan-13  \n",
       "507                 Pacific Western Bank     7-Nov-08    28-Aug-12  \n",
       "519                 Mutual of Omaha Bank    25-Jul-08    12-Sep-16  \n",
       "521                    OneWest Bank, FSB    11-Jul-08    22-Apr-15  \n",
       "535                            Beal Bank     7-Feb-03    20-Oct-08  "
      ]
     },
     "execution_count": 322,
     "metadata": {},
     "output_type": "execute_result"
    }
   ],
   "source": [
    "banks[banks['ST'] == 'CA']"
   ]
  },
  {
   "cell_type": "code",
   "execution_count": 323,
   "metadata": {},
   "outputs": [
    {
     "data": {
      "text/plain": [
       "0      IL\n",
       "1      WI\n",
       "2      LA\n",
       "3      UT\n",
       "4      IL\n",
       "       ..\n",
       "546    IL\n",
       "547    OH\n",
       "548    NH\n",
       "549    IL\n",
       "550    HI\n",
       "Name: ST, Length: 551, dtype: object"
      ]
     },
     "execution_count": 323,
     "metadata": {},
     "output_type": "execute_result"
    }
   ],
   "source": [
    "banks['ST']"
   ]
  },
  {
   "cell_type": "markdown",
   "metadata": {},
   "source": [
    "** How many failed banks don't have the word \"Bank\" in their name? **"
   ]
  },
  {
   "cell_type": "code",
   "execution_count": 324,
   "metadata": {},
   "outputs": [],
   "source": [
    "# CODE HERE"
   ]
  },
  {
   "cell_type": "code",
   "execution_count": 325,
   "metadata": {},
   "outputs": [
    {
     "data": {
      "text/plain": [
       "14"
      ]
     },
     "execution_count": 325,
     "metadata": {},
     "output_type": "execute_result"
    }
   ],
   "source": [
    "banks['Bank Name'].apply(lambda name: not('Bank' in name)).sum()"
   ]
  },
  {
   "cell_type": "markdown",
   "metadata": {},
   "source": [
    "** How many bank names start with the letter 's' ? **"
   ]
  },
  {
   "cell_type": "code",
   "execution_count": 326,
   "metadata": {},
   "outputs": [],
   "source": [
    "# CODE HERE"
   ]
  },
  {
   "cell_type": "code",
   "execution_count": 327,
   "metadata": {},
   "outputs": [
    {
     "data": {
      "text/plain": [
       "53"
      ]
     },
     "execution_count": 327,
     "metadata": {},
     "output_type": "execute_result"
    }
   ],
   "source": [
    "banks['Bank Name'].apply(lambda name: name[0] == 'S').sum()"
   ]
  },
  {
   "cell_type": "markdown",
   "metadata": {},
   "source": [
    "** How many CERT values are above 20000 ? **"
   ]
  },
  {
   "cell_type": "code",
   "execution_count": 328,
   "metadata": {},
   "outputs": [],
   "source": [
    "# CODE HERE"
   ]
  },
  {
   "cell_type": "code",
   "execution_count": 329,
   "metadata": {},
   "outputs": [
    {
     "data": {
      "text/plain": [
       "417"
      ]
     },
     "execution_count": 329,
     "metadata": {},
     "output_type": "execute_result"
    }
   ],
   "source": [
    "(banks['CERT'] > 20000).sum()"
   ]
  },
  {
   "cell_type": "markdown",
   "metadata": {},
   "source": [
    "** How many bank names consist of just two words? (e.g. \"First Bank\" , \"Bank Georgia\" )**"
   ]
  },
  {
   "cell_type": "code",
   "execution_count": 330,
   "metadata": {},
   "outputs": [],
   "source": [
    "# CODE HERE"
   ]
  },
  {
   "cell_type": "code",
   "execution_count": 331,
   "metadata": {},
   "outputs": [
    {
     "data": {
      "text/plain": [
       "113"
      ]
     },
     "execution_count": 331,
     "metadata": {},
     "output_type": "execute_result"
    }
   ],
   "source": [
    "(banks['Bank Name'].str.count(' ') == 1).sum()"
   ]
  },
  {
   "cell_type": "markdown",
   "metadata": {},
   "source": [
    "How many banks closed in the year 2008?"
   ]
  },
  {
   "cell_type": "code",
   "execution_count": 332,
   "metadata": {},
   "outputs": [
    {
     "name": "stdout",
     "output_type": "stream",
     "text": [
      "<class 'pandas.core.frame.DataFrame'>\n",
      "RangeIndex: 551 entries, 0 to 550\n",
      "Data columns (total 7 columns):\n",
      " #   Column                 Non-Null Count  Dtype \n",
      "---  ------                 --------------  ----- \n",
      " 0   Bank Name              551 non-null    object\n",
      " 1   City                   551 non-null    object\n",
      " 2   ST                     551 non-null    object\n",
      " 3   CERT                   551 non-null    int64 \n",
      " 4   Acquiring Institution  551 non-null    object\n",
      " 5   Closing Date           551 non-null    object\n",
      " 6   Updated Date           551 non-null    object\n",
      "dtypes: int64(1), object(6)\n",
      "memory usage: 30.3+ KB\n"
     ]
    }
   ],
   "source": [
    "banks.info()"
   ]
  },
  {
   "cell_type": "code",
   "execution_count": 333,
   "metadata": {},
   "outputs": [],
   "source": [
    "# CODE HERE"
   ]
  },
  {
   "cell_type": "code",
   "execution_count": 334,
   "metadata": {},
   "outputs": [
    {
     "name": "stdout",
     "output_type": "stream",
     "text": [
      "<class 'pandas.core.frame.DataFrame'>\n",
      "RangeIndex: 551 entries, 0 to 550\n",
      "Data columns (total 7 columns):\n",
      " #   Column                 Non-Null Count  Dtype \n",
      "---  ------                 --------------  ----- \n",
      " 0   Bank Name              551 non-null    object\n",
      " 1   City                   551 non-null    object\n",
      " 2   ST                     551 non-null    object\n",
      " 3   CERT                   551 non-null    int64 \n",
      " 4   Acquiring Institution  551 non-null    object\n",
      " 5   Closing Date           551 non-null    object\n",
      " 6   Updated Date           551 non-null    object\n",
      "dtypes: int64(1), object(6)\n",
      "memory usage: 30.3+ KB\n"
     ]
    }
   ],
   "source": [
    "banks.info()"
   ]
  },
  {
   "cell_type": "code",
   "execution_count": 335,
   "metadata": {},
   "outputs": [
    {
     "data": {
      "text/html": [
       "<div>\n",
       "<style scoped>\n",
       "    .dataframe tbody tr th:only-of-type {\n",
       "        vertical-align: middle;\n",
       "    }\n",
       "\n",
       "    .dataframe tbody tr th {\n",
       "        vertical-align: top;\n",
       "    }\n",
       "\n",
       "    .dataframe thead th {\n",
       "        text-align: right;\n",
       "    }\n",
       "</style>\n",
       "<table border=\"1\" class=\"dataframe\">\n",
       "  <thead>\n",
       "    <tr style=\"text-align: right;\">\n",
       "      <th></th>\n",
       "      <th>Bank Name</th>\n",
       "      <th>City</th>\n",
       "      <th>ST</th>\n",
       "      <th>CERT</th>\n",
       "      <th>Acquiring Institution</th>\n",
       "      <th>Closing Date</th>\n",
       "      <th>Updated Date</th>\n",
       "    </tr>\n",
       "  </thead>\n",
       "  <tbody>\n",
       "    <tr>\n",
       "      <th>0</th>\n",
       "      <td>Fayette County Bank</td>\n",
       "      <td>Saint Elmo</td>\n",
       "      <td>IL</td>\n",
       "      <td>1802</td>\n",
       "      <td>United Fidelity Bank, fsb</td>\n",
       "      <td>26-May-17</td>\n",
       "      <td>1-Jun-17</td>\n",
       "    </tr>\n",
       "    <tr>\n",
       "      <th>1</th>\n",
       "      <td>Guaranty Bank, (d/b/a BestBank in Georgia &amp; Mi...</td>\n",
       "      <td>Milwaukee</td>\n",
       "      <td>WI</td>\n",
       "      <td>30003</td>\n",
       "      <td>First-Citizens Bank &amp; Trust Company</td>\n",
       "      <td>5-May-17</td>\n",
       "      <td>1-Jun-17</td>\n",
       "    </tr>\n",
       "    <tr>\n",
       "      <th>2</th>\n",
       "      <td>First NBC Bank</td>\n",
       "      <td>New Orleans</td>\n",
       "      <td>LA</td>\n",
       "      <td>58302</td>\n",
       "      <td>Whitney Bank</td>\n",
       "      <td>28-Apr-17</td>\n",
       "      <td>23-May-17</td>\n",
       "    </tr>\n",
       "    <tr>\n",
       "      <th>3</th>\n",
       "      <td>Proficio Bank</td>\n",
       "      <td>Cottonwood Heights</td>\n",
       "      <td>UT</td>\n",
       "      <td>35495</td>\n",
       "      <td>Cache Valley Bank</td>\n",
       "      <td>3-Mar-17</td>\n",
       "      <td>18-May-17</td>\n",
       "    </tr>\n",
       "    <tr>\n",
       "      <th>4</th>\n",
       "      <td>Seaway Bank and Trust Company</td>\n",
       "      <td>Chicago</td>\n",
       "      <td>IL</td>\n",
       "      <td>19328</td>\n",
       "      <td>State Bank of Texas</td>\n",
       "      <td>27-Jan-17</td>\n",
       "      <td>18-May-17</td>\n",
       "    </tr>\n",
       "  </tbody>\n",
       "</table>\n",
       "</div>"
      ],
      "text/plain": [
       "                                           Bank Name                City  ST  \\\n",
       "0                                Fayette County Bank          Saint Elmo  IL   \n",
       "1  Guaranty Bank, (d/b/a BestBank in Georgia & Mi...           Milwaukee  WI   \n",
       "2                                     First NBC Bank         New Orleans  LA   \n",
       "3                                      Proficio Bank  Cottonwood Heights  UT   \n",
       "4                      Seaway Bank and Trust Company             Chicago  IL   \n",
       "\n",
       "    CERT                Acquiring Institution Closing Date Updated Date  \n",
       "0   1802            United Fidelity Bank, fsb    26-May-17     1-Jun-17  \n",
       "1  30003  First-Citizens Bank & Trust Company     5-May-17     1-Jun-17  \n",
       "2  58302                         Whitney Bank    28-Apr-17    23-May-17  \n",
       "3  35495                    Cache Valley Bank     3-Mar-17    18-May-17  \n",
       "4  19328                  State Bank of Texas    27-Jan-17    18-May-17  "
      ]
     },
     "execution_count": 335,
     "metadata": {},
     "output_type": "execute_result"
    }
   ],
   "source": [
    "banks.head()"
   ]
  },
  {
   "cell_type": "code",
   "execution_count": 336,
   "metadata": {},
   "outputs": [],
   "source": [
    "banks['Closing Date'] = pd.to_datetime(banks['Closing Date'], format='%d-%b-%y')\n",
    "banks['Updated Date'] = pd.to_datetime(banks['Updated Date'], format='%d-%b-%y')"
   ]
  },
  {
   "cell_type": "code",
   "execution_count": 337,
   "metadata": {},
   "outputs": [
    {
     "data": {
      "text/plain": [
       "25"
      ]
     },
     "execution_count": 337,
     "metadata": {},
     "output_type": "execute_result"
    }
   ],
   "source": [
    "(banks['Closing Date'].dt.year == 2008).sum()"
   ]
  },
  {
   "cell_type": "markdown",
   "metadata": {},
   "source": [
    "# GREAT JOB!"
   ]
  },
  {
   "cell_type": "markdown",
   "metadata": {},
   "source": []
  }
 ],
 "metadata": {
  "kernelspec": {
   "display_name": "Data-analytics",
   "language": "python",
   "name": "python3"
  },
  "language_info": {
   "codemirror_mode": {
    "name": "ipython",
    "version": 3
   },
   "file_extension": ".py",
   "mimetype": "text/x-python",
   "name": "python",
   "nbconvert_exporter": "python",
   "pygments_lexer": "ipython3",
   "version": "3.8.20"
  }
 },
 "nbformat": 4,
 "nbformat_minor": 4
}
